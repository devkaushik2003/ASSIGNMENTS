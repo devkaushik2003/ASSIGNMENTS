{
 "cells": [
  {
   "cell_type": "code",
   "execution_count": 1,
   "id": "7e2e0b1a-5bef-443c-9f9f-7af8e89d8369",
   "metadata": {
    "tags": []
   },
   "outputs": [
    {
     "name": "stdout",
     "output_type": "stream",
     "text": [
      "[1, 3, 5, 7, 9, 11, 13, 15, 17, 19, 21, 23, 25]\n"
     ]
    }
   ],
   "source": [
    "l = []\n",
    "for i in range(1,26):\n",
    "    if(i%2!=0):\n",
    "        l.append(i)\n",
    "        \n",
    "print(l)"
   ]
  },
  {
   "cell_type": "code",
   "execution_count": 2,
   "id": "0042c236-35f6-4078-937c-b68df0ef9df1",
   "metadata": {
    "tags": []
   },
   "outputs": [
    {
     "data": {
      "text/plain": [
       "(2, 3, 4, 5, 6, 7, 8, 9)"
      ]
     },
     "execution_count": 2,
     "metadata": {},
     "output_type": "execute_result"
    }
   ],
   "source": [
    "def sqr(*ded):\n",
    "    return ded\n",
    "\n",
    "sqr(2,3,4,5,6,7,8,9)"
   ]
  },
  {
   "cell_type": "code",
   "execution_count": 3,
   "id": "8695231c-af26-45a6-ae2e-61d2b769af9a",
   "metadata": {
    "tags": []
   },
   "outputs": [
    {
     "data": {
      "text/plain": [
       "{'first': '1', 'second': '2'}"
      ]
     },
     "execution_count": 3,
     "metadata": {},
     "output_type": "execute_result"
    }
   ],
   "source": [
    "def cub(**did):\n",
    "    return did\n",
    "\n",
    "cub(first=\"1\",second = \"2\")"
   ]
  },
  {
   "cell_type": "code",
   "execution_count": 5,
   "id": "6565ee7a-6083-4ea7-b51a-4b062bca472d",
   "metadata": {
    "tags": []
   },
   "outputs": [
    {
     "name": "stdout",
     "output_type": "stream",
     "text": [
      "2\n",
      "4\n",
      "6\n",
      "8\n",
      "10\n"
     ]
    }
   ],
   "source": [
    "l = [2, 4, 6, 8, 10, 12, 14, 16, 18, 20]\n",
    "dev = iter(l)\n",
    "for i in range(5):\n",
    "    print(next(dev))\n"
   ]
  },
  {
   "cell_type": "code",
   "execution_count": 6,
   "id": "a1852237-638b-429b-b1c6-c14c56ba4b13",
   "metadata": {
    "tags": []
   },
   "outputs": [
    {
     "name": "stdout",
     "output_type": "stream",
     "text": [
      "0\n",
      "1\n",
      "1\n",
      "2\n",
      "3\n",
      "5\n",
      "8\n",
      "13\n",
      "21\n",
      "34\n"
     ]
    }
   ],
   "source": [
    "def fib2():\n",
    "    a,b = 0,1\n",
    "    while True:\n",
    "        yield a \n",
    "        a,b = b , a+b\n",
    "        \n",
    "fub = fib2()\n",
    "for i in range(10):\n",
    "    print(next(fub))"
   ]
  },
  {
   "cell_type": "code",
   "execution_count": 25,
   "id": "4aa9177b-6ac7-43d3-ad33-60588219e272",
   "metadata": {
    "tags": []
   },
   "outputs": [
    {
     "name": "stdout",
     "output_type": "stream",
     "text": [
      "2\n",
      "3\n",
      "5\n",
      "7\n",
      "11\n",
      "13\n",
      "17\n",
      "19\n",
      "23\n",
      "29\n",
      "31\n",
      "37\n",
      "41\n",
      "43\n",
      "47\n",
      "53\n",
      "59\n",
      "61\n",
      "67\n",
      "71\n"
     ]
    }
   ],
   "source": [
    "def nprime():\n",
    "    for i in range(2,1000):\n",
    "        for j in range(2,i):\n",
    "            if(i%j==0):\n",
    "                break\n",
    "        else:\n",
    "            yield i\n",
    "            \n",
    "dev = nprime()\n",
    "for i in range(20):\n",
    "    print(next(dev))\n",
    "            \n"
   ]
  },
  {
   "cell_type": "code",
   "execution_count": 26,
   "id": "161063f4-a1b5-451f-afcc-272e64ceaf20",
   "metadata": {
    "tags": []
   },
   "outputs": [
    {
     "name": "stdout",
     "output_type": "stream",
     "text": [
      "0\n",
      "1\n",
      "1\n",
      "2\n",
      "3\n",
      "5\n",
      "8\n",
      "13\n",
      "21\n",
      "34\n",
      "55\n"
     ]
    }
   ],
   "source": [
    "first_num = 0\n",
    "second_num = 1\n",
    "i = 0\n",
    "while(i<11):\n",
    "    print(first_num)\n",
    "    last_digit = first_num + second_num\n",
    "    first_num = second_num\n",
    "    second_num = last_digit\n",
    "    i = i+ 1"
   ]
  },
  {
   "cell_type": "code",
   "execution_count": 29,
   "id": "f77a2852-b6e6-42e5-ad59-f81894b125f9",
   "metadata": {
    "tags": []
   },
   "outputs": [
    {
     "name": "stdout",
     "output_type": "stream",
     "text": [
      "['p', 'w', 's', 'k', 'i', 'l', 'l', 's']\n"
     ]
    }
   ],
   "source": [
    "name = \"pwskills\"\n",
    "l = [i for i in name]\n",
    "print(l)"
   ]
  },
  {
   "cell_type": "code",
   "execution_count": 30,
   "id": "c3b1e090-3b01-49ad-bd9b-6923de2bde72",
   "metadata": {
    "tags": []
   },
   "outputs": [
    {
     "name": "stdin",
     "output_type": "stream",
     "text": [
      "enter your word-> word\n"
     ]
    },
    {
     "name": "stdout",
     "output_type": "stream",
     "text": [
      "the string is not palindrome\n"
     ]
    }
   ],
   "source": [
    "string = input(\"enter your word->\")\n",
    "reverse = string[::-1]\n",
    "if (string == reverse):\n",
    "    print(\"the string is plaindrome\")\n",
    "else:\n",
    "    print(\"the string is not palindrome\")\n",
    "            "
   ]
  },
  {
   "cell_type": "code",
   "execution_count": 58,
   "id": "ea9c7331-d59c-4bfe-b7ca-b7cad61509d4",
   "metadata": {
    "tags": []
   },
   "outputs": [
    {
     "name": "stdin",
     "output_type": "stream",
     "text": [
      "enter your number-> 121\n"
     ]
    },
    {
     "name": "stdout",
     "output_type": "stream",
     "text": [
      "121\n",
      "the number is palindrome\n"
     ]
    }
   ],
   "source": [
    "num = int(input(\"enter your number->\"))\n",
    "dev = str(num)\n",
    "i = 0\n",
    "reverse = 0\n",
    "while(i<len(dev)):\n",
    "    lastdigit = int(num%10)\n",
    "    reverse = reverse*10 + lastdigit\n",
    "    num = int(num/10)\n",
    "    i=i+1\n",
    "print(reverse)\n",
    "if(dev == str(reverse) ):\n",
    "    print(\"the number is palindrome\")\n",
    "else:\n",
    "    print(\"the number is not palindrome\")\n",
    "    \n",
    "\n",
    "    \n"
   ]
  },
  {
   "cell_type": "code",
   "execution_count": 65,
   "id": "954b2c1e-efe6-462a-b5fe-a70a670ca132",
   "metadata": {
    "tags": []
   },
   "outputs": [
    {
     "name": "stdout",
     "output_type": "stream",
     "text": [
      "[1, 3, 5, 7, 9, 11, 13, 15, 17, 19, 21, 23, 25, 27, 29, 31, 33, 35, 37, 39, 41, 43, 45, 47, 49, 51, 53, 55, 57, 59, 61, 63, 65, 67, 69, 71, 73, 75, 77, 79, 81, 83, 85, 87, 89, 91, 93, 95, 97, 99]\n"
     ]
    }
   ],
   "source": [
    "odd = [num for num in range(1,101) if(num%2!=0)]\n",
    "print(odd)"
   ]
  },
  {
   "cell_type": "code",
   "execution_count": null,
   "id": "79ef81ea-42a3-46aa-bd52-f5c96d078cff",
   "metadata": {
    "tags": []
   },
   "outputs": [],
   "source": []
  },
  {
   "cell_type": "code",
   "execution_count": null,
   "id": "ec580544-7610-4a2a-8150-f11c67f8589c",
   "metadata": {},
   "outputs": [],
   "source": []
  }
 ],
 "metadata": {
  "kernelspec": {
   "display_name": "Python 3 (ipykernel)",
   "language": "python",
   "name": "python3"
  },
  "language_info": {
   "codemirror_mode": {
    "name": "ipython",
    "version": 3
   },
   "file_extension": ".py",
   "mimetype": "text/x-python",
   "name": "python",
   "nbconvert_exporter": "python",
   "pygments_lexer": "ipython3",
   "version": "3.10.0"
  }
 },
 "nbformat": 4,
 "nbformat_minor": 5
}
