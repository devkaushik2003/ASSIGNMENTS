{
 "cells": [
  {
   "cell_type": "code",
   "execution_count": null,
   "id": "5d3709b1-6b7c-450a-a380-b9ad4467bfcd",
   "metadata": {
    "tags": []
   },
   "outputs": [],
   "source": [
    "fruits = ['apple', 'banana', 'cherry']\n",
    "for fruit in fruits:\n",
    "  print(fruit)\n",
    "\n"
   ]
  },
  {
   "cell_type": "code",
   "execution_count": 9,
   "id": "029d3a1a-0b39-4173-9ad6-a0a791a29991",
   "metadata": {
    "tags": []
   },
   "outputs": [
    {
     "name": "stdout",
     "output_type": "stream",
     "text": [
      "this is using for loop\n",
      "sum of first 10 natural number is-> 55\n",
      "the multiplication of first 10 natural number is-> 3628800\n"
     ]
    }
   ],
   "source": [
    "print(\"this is using for loop\")\n",
    "sum = 0\n",
    "mult = 1\n",
    "for i in range(1,11):\n",
    "    sum = sum + i\n",
    "    mult = mult * i\n",
    "\n",
    "print(\"sum of first 10 natural number is->\",sum)\n",
    "print(\"the multiplication of first 10 natural number is->\",mult)"
   ]
  },
  {
   "cell_type": "code",
   "execution_count": null,
   "id": "f77382a3-af74-41f8-b5ff-5e6ce1d678ec",
   "metadata": {
    "tags": []
   },
   "outputs": [
    {
     "name": "stdout",
     "output_type": "stream",
     "text": [
      "sum of first 10 natural number is-> 55\n",
      "the multiplication of first 10 natural number is-> 3628800\n"
     ]
    }
   ],
   "source": [
    "sum = 0\n",
    "mult = 1\n",
    "i =1\n",
    "while(i<11):\n",
    "    sum = sum + i\n",
    "    mult = mult * i\n",
    "    i = i+1\n",
    "    \n",
    "print(\"sum of first 10 natural number is->\",sum)\n",
    "print(\"the multiplication of first 10 natural number is->\",mult)\n"
   ]
  },
  {
   "cell_type": "code",
   "execution_count": 2,
   "id": "9c04ae89-b3c5-446a-b8b3-5ac1110089bc",
   "metadata": {},
   "outputs": [
    {
     "name": "stdin",
     "output_type": "stream",
     "text": [
      "enter units-> 310\n"
     ]
    },
    {
     "name": "stdout",
     "output_type": "stream",
     "text": [
      "2250.0\n"
     ]
    }
   ],
   "source": [
    "units = int(input(\"enter units->\"))\n",
    "bill = 0\n",
    "if(units <= 100):\n",
    "    bill = units * 4.5\n",
    "elif(units <= 200):\n",
    "    bill = 100 * 4.5 + (units - 100) * 6\n",
    "elif(units <= 300):\n",
    "    bill = 100 * 4.5 + 100 * 6 + (units - 200) * 10\n",
    "else:\n",
    "    bill = 100 * 4.5 + 100 * 6 + 100 * 10 + (units - 300) * 20\n",
    "print(bill)"
   ]
  },
  {
   "cell_type": "code",
   "execution_count": 4,
   "id": "dd75433a-0bbc-41f1-9bc3-9f3deeeebc9b",
   "metadata": {},
   "outputs": [
    {
     "name": "stdout",
     "output_type": "stream",
     "text": [
      "[8, 64, 125, 216, 512, 1000, 1728, 2744, 3375, 4096, 5832, 8000, 10648, 13824, 15625, 17576, 21952, 27000, 32768, 39304, 42875, 46656, 54872, 64000, 74088, 85184, 91125, 97336, 110592, 125000, 140608, 157464, 166375, 175616, 195112, 216000, 238328, 262144, 274625, 287496, 314432, 343000, 373248, 405224, 421875, 438976, 474552, 512000, 551368, 592704, 614125, 636056, 681472, 729000, 778688, 830584, 857375, 884736, 941192, 1000000]\n"
     ]
    }
   ],
   "source": [
    "l = []\n",
    "for i in range(1,101):\n",
    "    l.append(i)\n",
    "newl = []\n",
    "for i in l:\n",
    "    newterm = i**3\n",
    "    if(newterm%4==0 or newterm%5==0):\n",
    "        newl.append(newterm)\n",
    "\n",
    "print(newl)"
   ]
  },
  {
   "cell_type": "code",
   "execution_count": 5,
   "id": "d54219c8-f25a-496f-aba7-0322e26744f3",
   "metadata": {},
   "outputs": [
    {
     "name": "stdout",
     "output_type": "stream",
     "text": [
      "Number of vowels: 12\n"
     ]
    }
   ],
   "source": [
    "string = \"I want to become a data scientist\"\n",
    "vowels = \"aeiouAEIOU\"\n",
    "count = 0\n",
    "for char in string:\n",
    "    if char in vowels:\n",
    "        count += 1\n",
    "print(\"Number of vowels:\", count)"
   ]
  },
  {
   "cell_type": "code",
   "execution_count": null,
   "id": "94ada7aa-f017-44ec-a5be-08027e0605c0",
   "metadata": {},
   "outputs": [],
   "source": []
  }
 ],
 "metadata": {
  "kernelspec": {
   "display_name": "Python 3 (ipykernel)",
   "language": "python",
   "name": "python3"
  },
  "language_info": {
   "codemirror_mode": {
    "name": "ipython",
    "version": 3
   },
   "file_extension": ".py",
   "mimetype": "text/x-python",
   "name": "python",
   "nbconvert_exporter": "python",
   "pygments_lexer": "ipython3",
   "version": "3.10.0"
  }
 },
 "nbformat": 4,
 "nbformat_minor": 5
}
